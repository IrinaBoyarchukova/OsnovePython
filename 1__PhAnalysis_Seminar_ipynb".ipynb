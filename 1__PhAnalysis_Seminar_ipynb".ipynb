{
  "nbformat": 4,
  "nbformat_minor": 0,
  "metadata": {
    "colab": {
      "provenance": [],
      "include_colab_link": true
    },
    "kernelspec": {
      "name": "python3",
      "display_name": "Python 3"
    },
    "language_info": {
      "name": "python"
    }
  },
  "cells": [
    {
      "cell_type": "markdown",
      "metadata": {
        "id": "view-in-github",
        "colab_type": "text"
      },
      "source": [
        "<a href=\"https://colab.research.google.com/github/IrinaBoyarchukova/OsnovePython/blob/main/1__PhAnalysis_Seminar_ipynb%22.ipynb\" target=\"_parent\"><img src=\"https://colab.research.google.com/assets/colab-badge.svg\" alt=\"Open In Colab\"/></a>"
      ]
    },
    {
      "cell_type": "code",
      "execution_count": null,
      "metadata": {
        "id": "WloWgt5AKtM9"
      },
      "outputs": [],
      "source": [
        "import seaborn as sns\n",
        "import numpy as np\n",
        "import random"
      ]
    },
    {
      "cell_type": "code",
      "source": [
        "data = {'salary': 8000}\n",
        "data.setdefault('salary', 7000)"
      ],
      "metadata": {
        "colab": {
          "base_uri": "https://localhost:8080/"
        },
        "id": "Q6TikWFANmGj",
        "outputId": "e665bf04-d214-4539-bf69-2ce62482bd06"
      },
      "execution_count": null,
      "outputs": [
        {
          "output_type": "execute_result",
          "data": {
            "text/plain": [
              "8000"
            ]
          },
          "metadata": {},
          "execution_count": 7
        }
      ]
    },
    {
      "cell_type": "code",
      "source": [
        "[i for i in range(5) if i % 2 == 0]"
      ],
      "metadata": {
        "colab": {
          "base_uri": "https://localhost:8080/"
        },
        "id": "NE6gWS-fNtu4",
        "outputId": "a9c95c04-ca35-48c9-b681-d3844d6fc997"
      },
      "execution_count": null,
      "outputs": [
        {
          "output_type": "execute_result",
          "data": {
            "text/plain": [
              "[0, 2, 4]"
            ]
          },
          "metadata": {},
          "execution_count": 2
        }
      ]
    },
    {
      "cell_type": "code",
      "source": [
        "{i for i in range(5)} # set"
      ],
      "metadata": {
        "colab": {
          "base_uri": "https://localhost:8080/"
        },
        "id": "aSRIGQ0JQMMA",
        "outputId": "960bf96f-0c3f-4d1d-839b-4814c9710d29"
      },
      "execution_count": null,
      "outputs": [
        {
          "output_type": "execute_result",
          "data": {
            "text/plain": [
              "{0, 1, 2, 3, 4}"
            ]
          },
          "metadata": {},
          "execution_count": 4
        }
      ]
    },
    {
      "cell_type": "code",
      "source": [
        "{i: i for i in range(5)} # dict"
      ],
      "metadata": {
        "colab": {
          "base_uri": "https://localhost:8080/"
        },
        "id": "guLthpwEQc1Q",
        "outputId": "432258d7-04c0-4904-9632-78ffc095dad7"
      },
      "execution_count": null,
      "outputs": [
        {
          "output_type": "execute_result",
          "data": {
            "text/plain": [
              "{0: 0, 1: 1, 2: 2, 3: 3, 4: 4}"
            ]
          },
          "metadata": {},
          "execution_count": 5
        }
      ]
    },
    {
      "cell_type": "markdown",
      "source": [
        "1.1 Соедините два словаря в один\n",
        "\n",
        "\n",
        "1.2 Напишите функцию, которая на вход принимает два словаря и возвращает один объединенный словарь\n",
        "Используйте аннотирование типов\n"
      ],
      "metadata": {
        "id": "IVcDTaWTRBzb"
      }
    },
    {
      "cell_type": "code",
      "source": [
        "dict1 = {'One': 1, 'Two': 2, 'Three': 3}\n",
        "dict2 = {'Four': 4, 'Five': 5, 'Six': 6}"
      ],
      "metadata": {
        "id": "QUTAmdCJQky8"
      },
      "execution_count": null,
      "outputs": []
    },
    {
      "cell_type": "code",
      "source": [
        "def two_dictionaries(dict1: dict, dict2: dict) -> dict:\n",
        "  return dict1"
      ],
      "metadata": {
        "id": "Ge6moT-qRPo_"
      },
      "execution_count": null,
      "outputs": []
    },
    {
      "cell_type": "code",
      "source": [
        "# Не создает 3-й словарь. Первый дописывает.\n",
        "\n",
        "dict1.update(dict2)\n",
        "dict1"
      ],
      "metadata": {
        "colab": {
          "base_uri": "https://localhost:8080/"
        },
        "id": "C27370zeRmbI",
        "outputId": "ed368dea-bd43-4242-ad49-4be81d9b7e80"
      },
      "execution_count": null,
      "outputs": [
        {
          "output_type": "execute_result",
          "data": {
            "text/plain": [
              "{'One': 1, 'Two': 2, 'Three': 3, 'Four': 4, 'Five': 5, 'Six': 6}"
            ]
          },
          "metadata": {},
          "execution_count": 11
        }
      ]
    },
    {
      "cell_type": "code",
      "source": [
        "def two_dictionaries(dict1: dict, dict2: dict) -> dict:\n",
        "  for key, value in dict2.items(): # Чтобы dictionary стал callable\n",
        "    dict1[key] = value\n",
        "  return dict1"
      ],
      "metadata": {
        "id": "OfSWkJBrSDOo"
      },
      "execution_count": null,
      "outputs": []
    },
    {
      "cell_type": "code",
      "source": [
        "two_dictionaries(dict1, dict2)"
      ],
      "metadata": {
        "colab": {
          "base_uri": "https://localhost:8080/"
        },
        "id": "SLpjPkXVT9Th",
        "outputId": "4627d704-0b3c-41c8-a1e3-83cdfbdb4afa"
      },
      "execution_count": null,
      "outputs": [
        {
          "output_type": "execute_result",
          "data": {
            "text/plain": [
              "{'One': 1, 'Two': 2, 'Three': 3, 'Four': 4, 'Five': 5, 'Six': 6}"
            ]
          },
          "metadata": {},
          "execution_count": 21
        }
      ]
    },
    {
      "cell_type": "markdown",
      "source": [
        "\n",
        "---\n",
        "Напишите функцию, которая из двух списков, делает один словарь, где элементы из первого списка - ключи, а элементы из второго списка - значения <br>Используйте аннотирование типов <br>2.1 Используя цикл for <br>2.2 Используя dict comprehensions \n",
        "\n",
        "---"
      ],
      "metadata": {
        "id": "BrOyjexCUqr1"
      }
    },
    {
      "cell_type": "code",
      "source": [
        "keys = ['One', 'Two', 'Three'] \n",
        "values = [1, 2, 3] "
      ],
      "metadata": {
        "id": "3p6ZSxUWUkIn"
      },
      "execution_count": null,
      "outputs": []
    },
    {
      "cell_type": "code",
      "source": [
        "def two_lists(keys_list: list, values_list: list) -> dict: \n",
        "  dict_result = dict() \n",
        "  for i in range(len(keys_list)): \n",
        "    dict_result[keys_list[i]] = values_list[i] \n",
        "  return dict_result "
      ],
      "metadata": {
        "id": "iI8ciIJFU0gr"
      },
      "execution_count": null,
      "outputs": []
    },
    {
      "cell_type": "code",
      "source": [
        "two_lists(keys, values)"
      ],
      "metadata": {
        "colab": {
          "base_uri": "https://localhost:8080/"
        },
        "id": "qCzWgnKFMAdC",
        "outputId": "09bf3252-03c0-41c4-f502-507e41a9a5fc"
      },
      "execution_count": null,
      "outputs": [
        {
          "output_type": "execute_result",
          "data": {
            "text/plain": [
              "{'One': 1, 'Two': 2, 'Three': 3}"
            ]
          },
          "metadata": {},
          "execution_count": 33
        }
      ]
    },
    {
      "cell_type": "code",
      "source": [
        "def two_list(keys_list: list, values_list: list) -> dict: \n",
        "  return {keys_list[i]: values_list[i] for i in range(len(keys_list))} \n",
        "  keys = ['One', 'Two', 'Three'] \n",
        "  values = [1, 2, 3] \n",
        "  two_list(keys, values) "
      ],
      "metadata": {
        "id": "Ul9PDd-eXVxk"
      },
      "execution_count": null,
      "outputs": []
    },
    {
      "cell_type": "markdown",
      "source": [
        "\n",
        "---\n",
        "3.1 Напишите функцию с циклом for <br>Функция на вход принимает: исходный словарь ключи, которые нужно извлечь (аргумент по умолчанию) <br>На выходе словарь с нужными ключами <br>Используйте аннотирование типов <br>3.2 Используя dict comprehensions \n",
        "\n",
        "---"
      ],
      "metadata": {
        "id": "wNL-b49NZBfp"
      }
    },
    {
      "cell_type": "code",
      "source": [
        "client_dict = { \n",
        "    \"name\": \"John\", \n",
        "    \"age\": 25, \n",
        "    \"salary\": 5000, \n",
        "    \"city\": \"Moscow\" } "
      ],
      "metadata": {
        "id": "S4HEqxpCVIlJ"
      },
      "execution_count": null,
      "outputs": []
    },
    {
      "cell_type": "code",
      "source": [
        "def dict_replace(dictionary: dict, list_keys=['name', 'age']) -> dict: \n",
        "  dict_result = dict() \n",
        "  for keys in list_keys: dict_result[keys] = dictionary[keys] \n",
        "  return dict_result \n",
        "client_dict = { \"name\": \"John\", \"age\": 25, \"salary\": 5000, \"city\": \"Moscow\" } \n",
        "dict_replace(client_dict, ['city']) # Задали значение вместо того, которое по умолчанию."
      ],
      "metadata": {
        "id": "xJS942PWZRlB",
        "colab": {
          "base_uri": "https://localhost:8080/"
        },
        "outputId": "c08b0436-4f0f-4c0f-ec25-709cebe61ce2"
      },
      "execution_count": null,
      "outputs": [
        {
          "output_type": "execute_result",
          "data": {
            "text/plain": [
              "{'city': 'Moscow'}"
            ]
          },
          "metadata": {},
          "execution_count": 40
        }
      ]
    },
    {
      "cell_type": "code",
      "source": [
        "# Выводит список, заданный по умолчанию.\n",
        "\n",
        "dict_replace(client_dict)"
      ],
      "metadata": {
        "colab": {
          "base_uri": "https://localhost:8080/"
        },
        "id": "SMzd-SyVadWU",
        "outputId": "fd8282b9-b0c0-437d-f94b-4c4e4267afd5"
      },
      "execution_count": null,
      "outputs": [
        {
          "output_type": "execute_result",
          "data": {
            "text/plain": [
              "{'name': 'John', 'age': 25}"
            ]
          },
          "metadata": {},
          "execution_count": 42
        }
      ]
    },
    {
      "cell_type": "code",
      "source": [
        "def dict_replace(dictionary: dict, list_keys=['name', 'age']) -> dict: \n",
        "  dict_result = dict() \n",
        "  for keys in list_keys: dict_result[keys] = dictionary[keys]"
      ],
      "metadata": {
        "id": "eWo5S_XHbXcI"
      },
      "execution_count": null,
      "outputs": []
    },
    {
      "cell_type": "code",
      "source": [
        "dict_replace(client_dict)"
      ],
      "metadata": {
        "colab": {
          "base_uri": "https://localhost:8080/"
        },
        "id": "87Z3loqAcrT-",
        "outputId": "ccb692b3-3381-49a1-d998-74b594370857"
      },
      "execution_count": null,
      "outputs": [
        {
          "output_type": "execute_result",
          "data": {
            "text/plain": [
              "{'name': 'John', 'age': 25}"
            ]
          },
          "metadata": {},
          "execution_count": 48
        }
      ]
    },
    {
      "cell_type": "code",
      "source": [
        "def dict_replace(dictionary: dict, list_keys=['name', 'age']) -> dict: \n",
        "  return {i: dictionary[i] for i in list_keys} \n",
        "  client_dict = { \"name\": \"John\", \"age\": 25, \"salary\": 5000, \"city\": \"Moscow\" } \n",
        "  dict_replace(client_dict) "
      ],
      "metadata": {
        "id": "_HI7xIr4croV"
      },
      "execution_count": null,
      "outputs": []
    },
    {
      "cell_type": "markdown",
      "source": [
        "4.1 Сгенерируйте случайные целые числа от 0 до 100 в количестве 5 штук с помощью модуля random Зафиксируйте псевдогенерацию, чтобы сгенерированные значения всегда были одинаковые Используйте list comprehensions "
      ],
      "metadata": {
        "id": "mbSkVeGpeNvR"
      }
    },
    {
      "cell_type": "code",
      "source": [
        "random.seed(0)\n",
        "x = [x for x in range(101)]\n",
        "random.sample(x, 5)"
      ],
      "metadata": {
        "colab": {
          "base_uri": "https://localhost:8080/"
        },
        "id": "ungh4iQxeNEq",
        "outputId": "873389aa-d43c-4e82-d60a-a59eb34d0911"
      },
      "execution_count": null,
      "outputs": [
        {
          "output_type": "execute_result",
          "data": {
            "text/plain": [
              "[49, 97, 53, 5, 33]"
            ]
          },
          "metadata": {},
          "execution_count": 65
        }
      ]
    },
    {
      "cell_type": "code",
      "source": [
        "from random import seed, sample \n",
        "seed(3) \n",
        "random_numbers = [i for i in range(101)] \n",
        "sample(random_numbers, 5) "
      ],
      "metadata": {
        "colab": {
          "base_uri": "https://localhost:8080/"
        },
        "id": "aDBXR_CPed8P",
        "outputId": "2328c266-bbb5-4f0a-f200-724b1e9f56f9"
      },
      "execution_count": null,
      "outputs": [
        {
          "output_type": "execute_result",
          "data": {
            "text/plain": [
              "[30, 75, 69, 16, 47]"
            ]
          },
          "metadata": {},
          "execution_count": 66
        }
      ]
    },
    {
      "cell_type": "markdown",
      "source": [
        "4.2* Напишите генератор <br>Генератор на вход принимает список с данными о клиенте (данные из пункта 4.1) <br>Внутри генератора реализуйте обход по списку с данными <br>На каждой итерации генератор будет возвращать кортеж из двух элементов: <br>данные по клиенту (в зависимости от итерации, <br>на 0 итерации вернется 0 элемент, <br>на 1 итерации вернется 1 элемент и тд) целочисленное значение, которое показывает, сколько секунд прошло с предыдущей итерации <br>Примечание: секунды, которые возвращаются должны показывать время не с начала запуска генератора, а именно то время, которое прошло с предыдущей итерации. <br>А значит время на первой итерации должно равняться 0. <br>Используйте функцию time из модуля time для подсчета времени. <br>Чтобы проверить работу таймера, запустите проход по генератору в цикле с time.sleep(2) "
      ],
      "metadata": {
        "id": "F8itzDWzg06b"
      }
    },
    {
      "cell_type": "code",
      "source": [
        "from random import seed, sample \n",
        "from time import time, sleep \n",
        "def client(list_numbers) -> tuple: \n",
        "  for i in list_numbers: \n",
        "    print((i, time())) \n",
        "    sleep(2) "
      ],
      "metadata": {
        "id": "D640ECRug3HP"
      },
      "execution_count": null,
      "outputs": []
    },
    {
      "cell_type": "code",
      "source": [
        "seed(3) \n",
        "random_numbers = [i for i in range(101)] \n",
        "client(sample(random_numbers, 5)) "
      ],
      "metadata": {
        "colab": {
          "base_uri": "https://localhost:8080/"
        },
        "id": "cZp6zAgkhw2Z",
        "outputId": "778cae6d-64da-4d48-ebd2-802458128720"
      },
      "execution_count": null,
      "outputs": [
        {
          "output_type": "stream",
          "name": "stdout",
          "text": [
            "(30, 1676623473.261641)\n",
            "(75, 1676623475.2638159)\n",
            "(69, 1676623477.2660298)\n",
            "(16, 1676623479.2682157)\n",
            "(47, 1676623481.269395)\n"
          ]
        }
      ]
    },
    {
      "cell_type": "code",
      "source": [
        "from random import seed, sample \n",
        "from time import time, sleep, ctime \n",
        "def client(list_numbers) -> tuple: \n",
        "  for i in list_numbers: \n",
        "    print((i, time(), ctime())) \n",
        "    sleep(2)"
      ],
      "metadata": {
        "id": "HdYeQShMq9ZP"
      },
      "execution_count": null,
      "outputs": []
    },
    {
      "cell_type": "code",
      "source": [
        "seed(3) \n",
        "random_numbers = [i for i in range(101)] \n",
        "client(sample(random_numbers, 5)) "
      ],
      "metadata": {
        "colab": {
          "base_uri": "https://localhost:8080/"
        },
        "id": "078NxwF5rIsX",
        "outputId": "6ffc44af-e3dd-4e8f-a86c-a0eefce3612b"
      },
      "execution_count": null,
      "outputs": [
        {
          "output_type": "stream",
          "name": "stdout",
          "text": [
            "(30, 1676860384.218965, 'Mon Feb 20 02:33:04 2023')\n",
            "(75, 1676860386.22243, 'Mon Feb 20 02:33:06 2023')\n",
            "(69, 1676860388.2244394, 'Mon Feb 20 02:33:08 2023')\n",
            "(16, 1676860390.2274373, 'Mon Feb 20 02:33:10 2023')\n",
            "(47, 1676860392.2294445, 'Mon Feb 20 02:33:12 2023')\n"
          ]
        }
      ]
    },
    {
      "cell_type": "markdown",
      "source": [
        "5.1 Найдите картинку в интернете и прикрепите её в ячейку с текстом\n",
        "<br>5.2 Создайте следующую таблицу в ячейке с текстом"
      ],
      "metadata": {
        "id": "oV4KxzTcjBKY"
      }
    },
    {
      "cell_type": "markdown",
      "source": [
        "<img src='https://i.artfile.ru/2304x1536_959728_[www.ArtFile.ru].jpg'> "
      ],
      "metadata": {
        "id": "iZ64JiYgjeJG"
      }
    },
    {
      "cell_type": "markdown",
      "source": [
        "<div style='background: pink'>\n",
        "\n",
        "| | ДО СОБЫТИЯ | ВО ВРЕМЯ СОБЫТИЯ | \n",
        "\n",
        "| ------ | ---------- | :--------------: | \n",
        "\n",
        "| 1-я контрольная точка | 350 | 500 | \n",
        "\n",
        "| 2-я контрольная точка | 350 | 700 | \n",
        "\n",
        "| 3-я контрольная точка | 400 | 800 | \n",
        "\n",
        "| Итого за победу | 1000 | 2000 | \n",
        "</div>\n"
      ],
      "metadata": {
        "id": "_y4pOLPPjia8"
      }
    },
    {
      "cell_type": "markdown",
      "source": [
        "<div style='background: yellow'> \n",
        "| | ДО СОБЫТИЯ | ВО ВРЕМЯ СОБЫТИЯ \n",
        "| | ------ | ---------- | :--------------: \n",
        "| | 1-я контрольная точка | 350 | 500 \n",
        "| | 2-я контрольная точка | 350 | 700 \n",
        "| | 3-я контрольная точка | 400 | 800 \n",
        "| | Итого за победу | 1000 | 2000 | \n",
        "</div> "
      ],
      "metadata": {
        "id": "U7pNSOdblzwe"
      }
    },
    {
      "cell_type": "markdown",
      "source": [
        "Напишите функцию, которая может принимать любое количество трат пользователя и считать сумму и среднее. На вход поступают целочисленные значения в любом количестве На выходе словарь с ключами суммы трат и средней траты "
      ],
      "metadata": {
        "id": "LAEU83uLm5Q2"
      }
    },
    {
      "cell_type": "code",
      "source": [
        "def price(*list_sum) -> dict: \n",
        "  return {'Сумма трат': sum(list_sum), \n",
        "          'Среднее арифм.': sum(list_sum) / len(list_sum)} "
      ],
      "metadata": {
        "id": "HcYZszwHm7Hw"
      },
      "execution_count": null,
      "outputs": []
    },
    {
      "cell_type": "code",
      "source": [
        "price(10000, 1500, 237, 60, 60)"
      ],
      "metadata": {
        "colab": {
          "base_uri": "https://localhost:8080/"
        },
        "id": "jEE7oysOnUYC",
        "outputId": "e108b787-4098-4a02-ab4e-95308d8a5293"
      },
      "execution_count": null,
      "outputs": [
        {
          "output_type": "execute_result",
          "data": {
            "text/plain": [
              "{'Сумма трат': 11857, 'Среднее арифм.': 2371.4}"
            ]
          },
          "metadata": {},
          "execution_count": 76
        }
      ]
    }
  ]
}