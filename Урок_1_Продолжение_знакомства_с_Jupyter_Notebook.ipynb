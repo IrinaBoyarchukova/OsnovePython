{
  "nbformat": 4,
  "nbformat_minor": 0,
  "metadata": {
    "colab": {
      "provenance": [],
      "authorship_tag": "ABX9TyNfke4l0Vq7fFPi6MCUHAdm",
      "include_colab_link": true
    },
    "kernelspec": {
      "name": "python3",
      "display_name": "Python 3"
    },
    "language_info": {
      "name": "python"
    }
  },
  "cells": [
    {
      "cell_type": "markdown",
      "metadata": {
        "id": "view-in-github",
        "colab_type": "text"
      },
      "source": [
        "<a href=\"https://colab.research.google.com/github/IrinaBoyarchukova/OsnovePython/blob/main/%D0%A3%D1%80%D0%BE%D0%BA_1_%D0%9F%D1%80%D0%BE%D0%B4%D0%BE%D0%BB%D0%B6%D0%B5%D0%BD%D0%B8%D0%B5_%D0%B7%D0%BD%D0%B0%D0%BA%D0%BE%D0%BC%D1%81%D1%82%D0%B2%D0%B0_%D1%81_Jupyter_Notebook.ipynb\" target=\"_parent\"><img src=\"https://colab.research.google.com/assets/colab-badge.svg\" alt=\"Open In Colab\"/></a>"
      ]
    },
    {
      "cell_type": "markdown",
      "source": [],
      "metadata": {
        "id": "Quzrewi0Fpzq"
      }
    },
    {
      "cell_type": "markdown",
      "source": [
        "# https://gbcdn.mrgcdn.ru/uploads/asset/4239327/attachment/67ca2d700eae346cc89b98a0d92b1329.html\n",
        "#Урок 1 Продолжение знакомства с Jupyter Notebook\n",
        "## Горячие клавиши\n",
        "- Edit Mode (press Enter to enable)\n",
        "- Ctrl-A : select all.\n",
        "- Ctrl Home : go to cell start.\n",
        "- Ctrl End : go to cell end.\n",
        "- Ctrl Left : go one word left.\n",
        "- Ctrl Right : go one word right.\n",
        "- Tab : code completion or indent\n",
        "- Shift-Tab : tooltip\n",
        "- Ctrl-Z : undo\n",
        "- Ctrl-/ : comment\n",
        "- Ctrl-D : delete whole line\n",
        "# Command Mode (press Esc to enable)\n",
        "- Up : select cell above\n",
        "- Down : select cell below\n",
        "- Shift-Enter : run cell, select below\n",
        "- Ctrl-Enter : run selected cells\n",
        "- Alt-Enter : run cell and insert below\n",
        "- A : insert cell above\n",
        "- B : insert cell below\n",
        "- X : cut selected cells\n",
        "- C : copy selected cells\n",
        "- V : paste cells below\n",
        "- F : find and replace\n",
        "- Y : change cell to code\n",
        "- M : change cell to markdown\n",
        "- 1 : change cell to heading 1\n",
        "- 2 : change cell to heading 2\n",
        "- 3 : change cell to heading 3\n",
        "- 4 : change cell to heading 4\n",
        "- 5 : change cell to heading 5\n",
        "- 6 : change cell to heading 6\n",
        "- L : toggle line numbers\n",
        "- H : show keyboard shortcuts\n",
        "- I,I : interrupt the kernel\n",
        "- 0,0 : restart the kernel (with dialog)"
      ],
      "metadata": {
        "id": "oAGUr0PLFrN4"
      }
    },
    {
      "cell_type": "markdown",
      "source": [],
      "metadata": {
        "id": "ipjTGxHaGb1Z"
      }
    },
    {
      "cell_type": "markdown",
      "source": [
        "## Словари\n",
        "Словарь - неупорядоченная структура данных, которая позволяет хранить пары «ключ — значение»."
      ],
      "metadata": {
        "id": "l-w4PNTeGeNx"
      }
    },
    {
      "cell_type": "code",
      "source": [
        "client_data = {\n",
        "    'name': 'John',\n",
        "    'surname': 'Doe',\n",
        "    'age': 32\n",
        "}\n",
        "\n",
        "client_data"
      ],
      "metadata": {
        "colab": {
          "base_uri": "https://localhost:8080/"
        },
        "id": "kKjP-KzTGfla",
        "outputId": "dd1fb82c-b702-4029-9ad1-6ce86614f575"
      },
      "execution_count": null,
      "outputs": [
        {
          "output_type": "execute_result",
          "data": {
            "text/plain": [
              "{'name': 'John', 'surname': 'Doe', 'age': 32}"
            ]
          },
          "metadata": {},
          "execution_count": 1
        }
      ]
    },
    {
      "cell_type": "code",
      "source": [
        "client_data['name']"
      ],
      "metadata": {
        "colab": {
          "base_uri": "https://localhost:8080/",
          "height": 35
        },
        "id": "j8ge8BlmGrNR",
        "outputId": "62d2fdaf-9c9b-4a24-c874-01aaf7d2e688"
      },
      "execution_count": null,
      "outputs": [
        {
          "output_type": "execute_result",
          "data": {
            "text/plain": [
              "'John'"
            ],
            "application/vnd.google.colaboratory.intrinsic+json": {
              "type": "string"
            }
          },
          "metadata": {},
          "execution_count": 2
        }
      ]
    },
    {
      "cell_type": "code",
      "source": [
        "client_data.keys()"
      ],
      "metadata": {
        "colab": {
          "base_uri": "https://localhost:8080/"
        },
        "id": "AJkFw6mLGxNC",
        "outputId": "d1b03a64-75dd-4f44-b82b-3b16fbaff9ce"
      },
      "execution_count": null,
      "outputs": [
        {
          "output_type": "execute_result",
          "data": {
            "text/plain": [
              "dict_keys(['name', 'surname', 'age'])"
            ]
          },
          "metadata": {},
          "execution_count": 3
        }
      ]
    },
    {
      "cell_type": "code",
      "source": [
        "client_data.values()"
      ],
      "metadata": {
        "colab": {
          "base_uri": "https://localhost:8080/"
        },
        "id": "pcunySOwG0yO",
        "outputId": "b6c5b753-9e7c-470a-ab32-daf6c9b77d7c"
      },
      "execution_count": null,
      "outputs": [
        {
          "output_type": "execute_result",
          "data": {
            "text/plain": [
              "dict_values(['John', 'Doe', 32])"
            ]
          },
          "metadata": {},
          "execution_count": 4
        }
      ]
    },
    {
      "cell_type": "code",
      "source": [
        "client_data.items()"
      ],
      "metadata": {
        "colab": {
          "base_uri": "https://localhost:8080/"
        },
        "id": "ODJ891t-G4P2",
        "outputId": "189af0ca-4431-409b-90d7-c2d47ff70554"
      },
      "execution_count": null,
      "outputs": [
        {
          "output_type": "execute_result",
          "data": {
            "text/plain": [
              "dict_items([('name', 'John'), ('surname', 'Doe'), ('age', 32)])"
            ]
          },
          "metadata": {},
          "execution_count": 5
        }
      ]
    },
    {
      "cell_type": "code",
      "source": [
        "for k, v in client_data.items():\n",
        "    print(f'{k}: {v}')"
      ],
      "metadata": {
        "colab": {
          "base_uri": "https://localhost:8080/"
        },
        "id": "idrrD_77G7Se",
        "outputId": "1879904b-f7e2-4b85-a6b2-ed70186a3848"
      },
      "execution_count": null,
      "outputs": [
        {
          "output_type": "stream",
          "name": "stdout",
          "text": [
            "name: John\n",
            "surname: Doe\n",
            "age: 32\n"
          ]
        }
      ]
    },
    {
      "cell_type": "code",
      "source": [
        "client_data['height'] = 186\n",
        "client_data"
      ],
      "metadata": {
        "colab": {
          "base_uri": "https://localhost:8080/"
        },
        "id": "DPU7jRQrG-kq",
        "outputId": "756c010e-8b66-41a1-93eb-6e6d47372be2"
      },
      "execution_count": null,
      "outputs": [
        {
          "output_type": "execute_result",
          "data": {
            "text/plain": [
              "{'name': 'John', 'surname': 'Doe', 'age': 32, 'height': 186}"
            ]
          },
          "metadata": {},
          "execution_count": 7
        }
      ]
    },
    {
      "cell_type": "code",
      "source": [
        "client_data['age'] = 14\n",
        "client_data"
      ],
      "metadata": {
        "colab": {
          "base_uri": "https://localhost:8080/"
        },
        "id": "3VZc_SCrHA5m",
        "outputId": "b70369d3-ddb5-44b0-a23e-6304c973d88b"
      },
      "execution_count": null,
      "outputs": [
        {
          "output_type": "execute_result",
          "data": {
            "text/plain": [
              "{'name': 'John', 'surname': 'Doe', 'age': 14, 'height': 186}"
            ]
          },
          "metadata": {},
          "execution_count": 8
        }
      ]
    },
    {
      "cell_type": "code",
      "source": [
        "client_data = {\n",
        "    'name': 'John',\n",
        "    'surname': 'Doe',\n",
        "    'age': 32\n",
        "}\n",
        "\n",
        "client_data"
      ],
      "metadata": {
        "colab": {
          "base_uri": "https://localhost:8080/"
        },
        "id": "CO6jcMbdHCBp",
        "outputId": "5c8d4dc6-3fe5-4cc7-f3e4-98696bddac90"
      },
      "execution_count": null,
      "outputs": [
        {
          "output_type": "execute_result",
          "data": {
            "text/plain": [
              "{'name': 'John', 'surname': 'Doe', 'age': 32}"
            ]
          },
          "metadata": {},
          "execution_count": 9
        }
      ]
    },
    {
      "cell_type": "code",
      "source": [
        "client_data.setdefault('age', 14)"
      ],
      "metadata": {
        "colab": {
          "base_uri": "https://localhost:8080/"
        },
        "id": "g3o9WUeeHGde",
        "outputId": "ed484e6a-cd64-4d8d-f168-95adf719771b"
      },
      "execution_count": null,
      "outputs": [
        {
          "output_type": "execute_result",
          "data": {
            "text/plain": [
              "32"
            ]
          },
          "metadata": {},
          "execution_count": 10
        }
      ]
    },
    {
      "cell_type": "code",
      "source": [
        "client_data"
      ],
      "metadata": {
        "colab": {
          "base_uri": "https://localhost:8080/"
        },
        "id": "A1W_U2NvHHr6",
        "outputId": "8c3a004c-ec69-46a2-ea31-b30ef8761443"
      },
      "execution_count": null,
      "outputs": [
        {
          "output_type": "execute_result",
          "data": {
            "text/plain": [
              "{'name': 'John', 'surname': 'Doe', 'age': 32}"
            ]
          },
          "metadata": {},
          "execution_count": 11
        }
      ]
    },
    {
      "cell_type": "code",
      "source": [
        "client_data.update({\n",
        "    'age': 14\n",
        "})\n",
        "client_data"
      ],
      "metadata": {
        "colab": {
          "base_uri": "https://localhost:8080/"
        },
        "id": "m9o1ldwnHNbp",
        "outputId": "029a99ec-2bb5-434c-dfe1-732a263e9fb7"
      },
      "execution_count": null,
      "outputs": [
        {
          "output_type": "execute_result",
          "data": {
            "text/plain": [
              "{'name': 'John', 'surname': 'Doe', 'age': 14}"
            ]
          },
          "metadata": {},
          "execution_count": 12
        }
      ]
    },
    {
      "cell_type": "markdown",
      "source": [
        "**Вложенный словарь** – это словарь, содержащий другие словари."
      ],
      "metadata": {
        "id": "whR50z6hHRlG"
      }
    },
    {
      "cell_type": "code",
      "source": [
        "client_data.update({\n",
        "    'age': 15,\n",
        "    'body': {\n",
        "        'weight': 80,\n",
        "        'height': 186\n",
        "    }\n",
        "})\n",
        "\n",
        "client_data"
      ],
      "metadata": {
        "colab": {
          "base_uri": "https://localhost:8080/"
        },
        "id": "oZV7E3IbHTk1",
        "outputId": "6a1ec3d6-fa8b-4358-cab8-3f25c9e27f8b"
      },
      "execution_count": null,
      "outputs": [
        {
          "output_type": "execute_result",
          "data": {
            "text/plain": [
              "{'name': 'John',\n",
              " 'surname': 'Doe',\n",
              " 'age': 15,\n",
              " 'body': {'weight': 80, 'height': 186}}"
            ]
          },
          "metadata": {},
          "execution_count": 13
        }
      ]
    },
    {
      "cell_type": "code",
      "source": [
        "client_data['body']"
      ],
      "metadata": {
        "colab": {
          "base_uri": "https://localhost:8080/"
        },
        "id": "Tddi8oBoHXtP",
        "outputId": "62d6ac04-9fbc-49d4-dde2-3b6311fb670b"
      },
      "execution_count": null,
      "outputs": [
        {
          "output_type": "execute_result",
          "data": {
            "text/plain": [
              "{'weight': 80, 'height': 186}"
            ]
          },
          "metadata": {},
          "execution_count": 14
        }
      ]
    },
    {
      "cell_type": "code",
      "source": [
        "client_data['body']['height']"
      ],
      "metadata": {
        "colab": {
          "base_uri": "https://localhost:8080/"
        },
        "id": "60ptd10GHafS",
        "outputId": "28773036-e95d-484e-b06d-36277a3375bc"
      },
      "execution_count": null,
      "outputs": [
        {
          "output_type": "execute_result",
          "data": {
            "text/plain": [
              "186"
            ]
          },
          "metadata": {},
          "execution_count": 15
        }
      ]
    },
    {
      "cell_type": "markdown",
      "source": [
        "**Модуль Random**\n",
        "Модуль random предоставляет функции для генерации случайных чисел или к примеру, для случайного выбора элементов последовательности. Посмотрим на самые полезные функции."
      ],
      "metadata": {
        "id": "HE_bXCmyHdxl"
      }
    },
    {
      "cell_type": "code",
      "source": [
        "import random\n",
        "random.randint(0, 10)"
      ],
      "metadata": {
        "colab": {
          "base_uri": "https://localhost:8080/"
        },
        "id": "wr_QW0qLHhvx",
        "outputId": "1680337b-49fc-42b7-fe5f-9de6a32493fd"
      },
      "execution_count": null,
      "outputs": [
        {
          "output_type": "execute_result",
          "data": {
            "text/plain": [
              "8"
            ]
          },
          "metadata": {},
          "execution_count": 16
        }
      ]
    },
    {
      "cell_type": "code",
      "source": [
        "random.seed(9)\n",
        "random.randint(0, 10)"
      ],
      "metadata": {
        "colab": {
          "base_uri": "https://localhost:8080/"
        },
        "id": "gLa-TupYHsBu",
        "outputId": "11bae34e-3047-44ab-c59d-9dfbd5494757"
      },
      "execution_count": null,
      "outputs": [
        {
          "output_type": "execute_result",
          "data": {
            "text/plain": [
              "7"
            ]
          },
          "metadata": {},
          "execution_count": 17
        }
      ]
    },
    {
      "cell_type": "code",
      "source": [
        "random.random()"
      ],
      "metadata": {
        "colab": {
          "base_uri": "https://localhost:8080/"
        },
        "id": "zxnF0jLEHui6",
        "outputId": "d2b4d711-5095-44c6-afc8-8954eac62850"
      },
      "execution_count": null,
      "outputs": [
        {
          "output_type": "execute_result",
          "data": {
            "text/plain": [
              "0.6132152331867212"
            ]
          },
          "metadata": {},
          "execution_count": 18
        }
      ]
    },
    {
      "cell_type": "code",
      "source": [
        "random.uniform(0, 10)"
      ],
      "metadata": {
        "colab": {
          "base_uri": "https://localhost:8080/"
        },
        "id": "Oc808C_aHxKr",
        "outputId": "7723f1a4-96bb-4b9a-9e57-6b87a1f27f23"
      },
      "execution_count": null,
      "outputs": [
        {
          "output_type": "execute_result",
          "data": {
            "text/plain": [
              "2.671344216059104"
            ]
          },
          "metadata": {},
          "execution_count": 19
        }
      ]
    },
    {
      "cell_type": "code",
      "source": [
        "a = ['black', 'red', 'yellow', 'green']\n",
        "random.sample(a, 2)"
      ],
      "metadata": {
        "colab": {
          "base_uri": "https://localhost:8080/"
        },
        "id": "XKeMe0LLHzv6",
        "outputId": "270e7e56-a8ef-49cf-caa9-e07dafe9e780"
      },
      "execution_count": null,
      "outputs": [
        {
          "output_type": "execute_result",
          "data": {
            "text/plain": [
              "['red', 'yellow']"
            ]
          },
          "metadata": {},
          "execution_count": 20
        }
      ]
    },
    {
      "cell_type": "code",
      "source": [
        "random.shuffle(a)\n",
        "a"
      ],
      "metadata": {
        "colab": {
          "base_uri": "https://localhost:8080/"
        },
        "id": "3QJYlnhFH3B1",
        "outputId": "7aadc8ad-fa3d-407c-ca24-d5fa546ab59c"
      },
      "execution_count": null,
      "outputs": [
        {
          "output_type": "execute_result",
          "data": {
            "text/plain": [
              "['green', 'yellow', 'red', 'black']"
            ]
          },
          "metadata": {},
          "execution_count": 21
        }
      ]
    },
    {
      "cell_type": "code",
      "source": [
        "random.choice(a)"
      ],
      "metadata": {
        "colab": {
          "base_uri": "https://localhost:8080/",
          "height": 35
        },
        "id": "DU6HIG8SH5Vr",
        "outputId": "d3410d89-1869-499d-b98e-fede90e60278"
      },
      "execution_count": null,
      "outputs": [
        {
          "output_type": "execute_result",
          "data": {
            "text/plain": [
              "'green'"
            ],
            "application/vnd.google.colaboratory.intrinsic+json": {
              "type": "string"
            }
          },
          "metadata": {},
          "execution_count": 22
        }
      ]
    },
    {
      "cell_type": "markdown",
      "source": [
        "**Функция в python** - объект, который принимает аргументы, производит с ними желаемые действия и возвращает значение. Также функция — это фрагмент программного кода, который решает какую-либо задачу. Его можно вызывать в любом месте основной программы. Функции помогают избегать дублирования кода при многократном его использовании.\n",
        "\n",
        "**Аргумент функции** — значение, которое передается в функцию при её вызове.\n",
        "\n",
        "def func(arg1, arg2):\n",
        "    # make magic\n",
        "    result = arg1 + arg2\n",
        "    return result\n",
        "**Аргументы по позиции и имени**\n",
        "Позиционный аргумент - это аргумент, передаваемый в функцию в определенной последовательности (на определенных позициях), без указания их имен"
      ],
      "metadata": {
        "id": "xGVVSsarH-Vj"
      }
    },
    {
      "cell_type": "code",
      "source": [
        "def calc_sum(a, b):\n",
        "    print(f'a is {a}')\n",
        "    print(f'b is {b}')\n",
        "    result = a + b \n",
        "    return result\n",
        "    "
      ],
      "metadata": {
        "id": "raJfZb5HICvj"
      },
      "execution_count": null,
      "outputs": []
    },
    {
      "cell_type": "code",
      "source": [
        "calc_sum(3, 5)"
      ],
      "metadata": {
        "colab": {
          "base_uri": "https://localhost:8080/"
        },
        "id": "cwyNLBGxIJCD",
        "outputId": "86b89178-e023-4c52-8723-adf9a93ff48f"
      },
      "execution_count": null,
      "outputs": [
        {
          "output_type": "stream",
          "name": "stdout",
          "text": [
            "a is 3\n",
            "b is 5\n"
          ]
        },
        {
          "output_type": "execute_result",
          "data": {
            "text/plain": [
              "8"
            ]
          },
          "metadata": {},
          "execution_count": 25
        }
      ]
    },
    {
      "cell_type": "markdown",
      "source": [
        "**Именованный аргумент** - это аргумент, передаваемые в функцию при помощи имени."
      ],
      "metadata": {
        "id": "pXXejcWnIN3D"
      }
    },
    {
      "cell_type": "code",
      "source": [
        "calc_sum(a=3, b=5)"
      ],
      "metadata": {
        "colab": {
          "base_uri": "https://localhost:8080/"
        },
        "id": "cvzS1Ro4IPLb",
        "outputId": "e4959bc9-8622-436e-dd62-d6e47db268a4"
      },
      "execution_count": null,
      "outputs": [
        {
          "output_type": "stream",
          "name": "stdout",
          "text": [
            "a is 3\n",
            "b is 5\n"
          ]
        },
        {
          "output_type": "execute_result",
          "data": {
            "text/plain": [
              "8"
            ]
          },
          "metadata": {},
          "execution_count": 26
        }
      ]
    },
    {
      "cell_type": "code",
      "source": [
        "calc_sum(b=5, a=3)"
      ],
      "metadata": {
        "colab": {
          "base_uri": "https://localhost:8080/"
        },
        "id": "MB_VLwX_IS2y",
        "outputId": "2f45bdf8-4e76-4be9-c6be-ee956aa72d5d"
      },
      "execution_count": null,
      "outputs": [
        {
          "output_type": "stream",
          "name": "stdout",
          "text": [
            "a is 3\n",
            "b is 5\n"
          ]
        },
        {
          "output_type": "execute_result",
          "data": {
            "text/plain": [
              "8"
            ]
          },
          "metadata": {},
          "execution_count": 27
        }
      ]
    },
    {
      "cell_type": "code",
      "source": [
        "calc_sum(b=5, 3)"
      ],
      "metadata": {
        "colab": {
          "base_uri": "https://localhost:8080/",
          "height": 129
        },
        "id": "rBMGpX_VIUz6",
        "outputId": "ed319189-be90-4b10-9c92-269dfa3ae97c"
      },
      "execution_count": null,
      "outputs": [
        {
          "output_type": "error",
          "ename": "SyntaxError",
          "evalue": "ignored",
          "traceback": [
            "\u001b[0;36m  File \u001b[0;32m\"<ipython-input-28-93aa6c5cb30e>\"\u001b[0;36m, line \u001b[0;32m1\u001b[0m\n\u001b[0;31m    calc_sum(b=5, 3)\u001b[0m\n\u001b[0m                  ^\u001b[0m\n\u001b[0;31mSyntaxError\u001b[0m\u001b[0;31m:\u001b[0m positional argument follows keyword argument\n"
          ]
        }
      ]
    },
    {
      "cell_type": "code",
      "source": [
        "calc_sum(3, b=5)"
      ],
      "metadata": {
        "colab": {
          "base_uri": "https://localhost:8080/"
        },
        "id": "zNm2bIwcIWia",
        "outputId": "d940f6dc-a40b-418e-f218-6d13be9c524d"
      },
      "execution_count": null,
      "outputs": [
        {
          "output_type": "stream",
          "name": "stdout",
          "text": [
            "a is 3\n",
            "b is 5\n"
          ]
        },
        {
          "output_type": "execute_result",
          "data": {
            "text/plain": [
              "8"
            ]
          },
          "metadata": {},
          "execution_count": 29
        }
      ]
    },
    {
      "cell_type": "markdown",
      "source": [
        "**Аргументы по умолчанию**\n",
        "В функцию можно передавать аргументы по умолчанию, это те аргументы, значения которых будут использованы, если не передали им явное значение при вызове."
      ],
      "metadata": {
        "id": "SMDX6yyAIa6w"
      }
    },
    {
      "cell_type": "code",
      "source": [
        "def say_hi(greeting='Hello', name='World'):\n",
        "    return f'{greeting}, {name}'"
      ],
      "metadata": {
        "id": "C36Shgr-IcO3"
      },
      "execution_count": null,
      "outputs": []
    },
    {
      "cell_type": "code",
      "source": [
        "say_hi()"
      ],
      "metadata": {
        "colab": {
          "base_uri": "https://localhost:8080/",
          "height": 35
        },
        "id": "9RbOwUVjIgKz",
        "outputId": "1ecbb4d7-9fef-44ab-90d2-a89c0337ab9e"
      },
      "execution_count": null,
      "outputs": [
        {
          "output_type": "execute_result",
          "data": {
            "text/plain": [
              "'Hello, World'"
            ],
            "application/vnd.google.colaboratory.intrinsic+json": {
              "type": "string"
            }
          },
          "metadata": {},
          "execution_count": 31
        }
      ]
    },
    {
      "cell_type": "code",
      "source": [
        "def say_hi(greeting, name='World'):\n",
        "    return f'{greeting}, {name}'"
      ],
      "metadata": {
        "id": "NaRepidYIi57"
      },
      "execution_count": null,
      "outputs": []
    },
    {
      "cell_type": "code",
      "source": [
        "say_hi()"
      ],
      "metadata": {
        "colab": {
          "base_uri": "https://localhost:8080/",
          "height": 163
        },
        "id": "YaflC_6uIjhm",
        "outputId": "fe52af09-8235-4e9b-eda1-5379b23b7f99"
      },
      "execution_count": null,
      "outputs": [
        {
          "output_type": "error",
          "ename": "TypeError",
          "evalue": "ignored",
          "traceback": [
            "\u001b[0;31m---------------------------------------------------------------------------\u001b[0m",
            "\u001b[0;31mTypeError\u001b[0m                                 Traceback (most recent call last)",
            "\u001b[0;32m<ipython-input-33-6acd93c5568f>\u001b[0m in \u001b[0;36m<module>\u001b[0;34m\u001b[0m\n\u001b[0;32m----> 1\u001b[0;31m \u001b[0msay_hi\u001b[0m\u001b[0;34m(\u001b[0m\u001b[0;34m)\u001b[0m\u001b[0;34m\u001b[0m\u001b[0;34m\u001b[0m\u001b[0m\n\u001b[0m",
            "\u001b[0;31mTypeError\u001b[0m: say_hi() missing 1 required positional argument: 'greeting'"
          ]
        }
      ]
    },
    {
      "cell_type": "code",
      "source": [
        "def say_hi(greeting='Hello', name='World'):\n",
        "    return f'{greeting}, {name}'"
      ],
      "metadata": {
        "id": "ef6QThQaInXD"
      },
      "execution_count": null,
      "outputs": []
    },
    {
      "cell_type": "code",
      "source": [
        "say_hi(greeting='Hey', name='Apple')"
      ],
      "metadata": {
        "colab": {
          "base_uri": "https://localhost:8080/",
          "height": 35
        },
        "id": "HTQo8m09IrqN",
        "outputId": "1c469445-fc5e-44bb-9004-85deb716133a"
      },
      "execution_count": null,
      "outputs": [
        {
          "output_type": "execute_result",
          "data": {
            "text/plain": [
              "'Hey, Apple'"
            ],
            "application/vnd.google.colaboratory.intrinsic+json": {
              "type": "string"
            }
          },
          "metadata": {},
          "execution_count": 35
        }
      ]
    },
    {
      "cell_type": "markdown",
      "source": [
        "**Аргумент** *args\n",
        "\n",
        "*args — это сокращение от «arguments» (аргументы)."
      ],
      "metadata": {
        "id": "mKxNzz6eIvMR"
      }
    },
    {
      "cell_type": "code",
      "source": [
        "def calc_sum(a, b, c):\n",
        "    result = a + b + c\n",
        "    return result\n"
      ],
      "metadata": {
        "id": "8ypujWCsI1Ja"
      },
      "execution_count": null,
      "outputs": []
    },
    {
      "cell_type": "code",
      "source": [
        "def calc_sum(a, b, c, d, e):\n",
        "    result = a + b + c + d + e\n",
        "    return result"
      ],
      "metadata": {
        "id": "Q5goXuaYJLwj"
      },
      "execution_count": null,
      "outputs": []
    },
    {
      "cell_type": "code",
      "source": [
        "def calc_sum(*args):\n",
        "    result = sum(args)\n",
        "    return result"
      ],
      "metadata": {
        "id": "XYcl2HUmJMa9"
      },
      "execution_count": null,
      "outputs": []
    },
    {
      "cell_type": "code",
      "source": [
        "calc_sum(1)"
      ],
      "metadata": {
        "colab": {
          "base_uri": "https://localhost:8080/"
        },
        "id": "cQcLhmcuJhrz",
        "outputId": "16498ed1-ac08-4797-b494-fd29a9080081"
      },
      "execution_count": null,
      "outputs": [
        {
          "output_type": "execute_result",
          "data": {
            "text/plain": [
              "1"
            ]
          },
          "metadata": {},
          "execution_count": 42
        }
      ]
    },
    {
      "cell_type": "code",
      "source": [
        "calc_sum(10, 0, 5)"
      ],
      "metadata": {
        "colab": {
          "base_uri": "https://localhost:8080/"
        },
        "id": "QrbRY0vjJkaH",
        "outputId": "0e7e5507-4f6e-40fd-939d-83bb3237efe7"
      },
      "execution_count": null,
      "outputs": [
        {
          "output_type": "execute_result",
          "data": {
            "text/plain": [
              "15"
            ]
          },
          "metadata": {},
          "execution_count": 43
        }
      ]
    },
    {
      "cell_type": "code",
      "source": [
        "def calc_sum(*args):\n",
        "    print(args)\n",
        "    print(type(args))\n",
        "    result = sum(args)\n",
        "    return result\n",
        "    "
      ],
      "metadata": {
        "id": "J4vnVGhJJoiq"
      },
      "execution_count": null,
      "outputs": []
    },
    {
      "cell_type": "code",
      "source": [
        "  calc_sum(1, 2, 3)"
      ],
      "metadata": {
        "colab": {
          "base_uri": "https://localhost:8080/"
        },
        "id": "Kh8E4kSYJpJ1",
        "outputId": "c289c6f0-27d2-4789-9e0e-d5854e90572e"
      },
      "execution_count": null,
      "outputs": [
        {
          "output_type": "stream",
          "name": "stdout",
          "text": [
            "(1, 2, 3)\n",
            "<class 'tuple'>\n"
          ]
        },
        {
          "output_type": "execute_result",
          "data": {
            "text/plain": [
              "6"
            ]
          },
          "metadata": {},
          "execution_count": 46
        }
      ]
    },
    {
      "cell_type": "code",
      "source": [
        "def printer(*args):\n",
        "    print(type(args))\n",
        "    print(args)\n",
        "    print()\n",
        "    for i in args:\n",
        "        print(i)"
      ],
      "metadata": {
        "id": "3AcRnViYJu4w"
      },
      "execution_count": null,
      "outputs": []
    },
    {
      "cell_type": "code",
      "source": [
        "printer(1, 'text', {'key': 'value'})"
      ],
      "metadata": {
        "colab": {
          "base_uri": "https://localhost:8080/"
        },
        "id": "m2aHESe_JzJb",
        "outputId": "90d32e7c-bfe7-4e2e-ab2f-d925fda2a143"
      },
      "execution_count": null,
      "outputs": [
        {
          "output_type": "stream",
          "name": "stdout",
          "text": [
            "<class 'tuple'>\n",
            "(1, 'text', {'key': 'value'})\n",
            "\n",
            "1\n",
            "text\n",
            "{'key': 'value'}\n"
          ]
        }
      ]
    },
    {
      "cell_type": "code",
      "source": [
        "names = ['John', 'Nick', 'Bill']\n",
        "printer(names)"
      ],
      "metadata": {
        "colab": {
          "base_uri": "https://localhost:8080/"
        },
        "id": "tcVNmRpqJ0Qz",
        "outputId": "b0e88c95-6c49-409b-80df-d9b3e81eb3ec"
      },
      "execution_count": null,
      "outputs": [
        {
          "output_type": "stream",
          "name": "stdout",
          "text": [
            "<class 'tuple'>\n",
            "(['John', 'Nick', 'Bill'],)\n",
            "\n",
            "['John', 'Nick', 'Bill']\n"
          ]
        }
      ]
    },
    {
      "cell_type": "code",
      "source": [
        "printer(*names)"
      ],
      "metadata": {
        "colab": {
          "base_uri": "https://localhost:8080/"
        },
        "id": "kYdoslGAJ4Ar",
        "outputId": "9b02b4ba-f0a6-4a97-fa86-6a7d66f0d9d0"
      },
      "execution_count": null,
      "outputs": [
        {
          "output_type": "stream",
          "name": "stdout",
          "text": [
            "<class 'tuple'>\n",
            "('John', 'Nick', 'Bill')\n",
            "\n",
            "John\n",
            "Nick\n",
            "Bill\n"
          ]
        }
      ]
    },
    {
      "cell_type": "markdown",
      "source": [
        "**Атрибут** **kwargs\n",
        "**kwargs — сокращение от «keyword arguments» (именованные аргументы)."
      ],
      "metadata": {
        "id": "dgYUn-ciJ7Js"
      }
    },
    {
      "cell_type": "code",
      "source": [
        "def printer(**kwargs):\n",
        "    print(type(kwargs))\n",
        "    print()\n",
        "    for key, value in kwargs.items():\n",
        "        print(f'{key} - {value}')"
      ],
      "metadata": {
        "id": "6wEvw88DJ8jZ"
      },
      "execution_count": null,
      "outputs": []
    },
    {
      "cell_type": "code",
      "source": [
        "printer(a=10, b='20')"
      ],
      "metadata": {
        "colab": {
          "base_uri": "https://localhost:8080/"
        },
        "id": "U1rt5DmbKAIv",
        "outputId": "f8e06d7f-add4-4f97-f843-4a597a98fd88"
      },
      "execution_count": null,
      "outputs": [
        {
          "output_type": "stream",
          "name": "stdout",
          "text": [
            "<class 'dict'>\n",
            "\n",
            "a - 10\n",
            "b - 20\n"
          ]
        }
      ]
    },
    {
      "cell_type": "code",
      "source": [
        "def say_hi(**kwargs):\n",
        "    greeting = kwargs.get('greeting', 'Hello')\n",
        "    name = kwargs.get('name', 'World')\n",
        "    return f'{greeting}, {name}'"
      ],
      "metadata": {
        "id": "EzlTX_ueKB_V"
      },
      "execution_count": null,
      "outputs": []
    },
    {
      "cell_type": "code",
      "source": [
        "say_hi()"
      ],
      "metadata": {
        "colab": {
          "base_uri": "https://localhost:8080/",
          "height": 35
        },
        "id": "fz7cC5lbKCfX",
        "outputId": "c29c917d-4f6f-4d80-843d-b7eba06f6302"
      },
      "execution_count": null,
      "outputs": [
        {
          "output_type": "execute_result",
          "data": {
            "text/plain": [
              "'Hello, World'"
            ],
            "application/vnd.google.colaboratory.intrinsic+json": {
              "type": "string"
            }
          },
          "metadata": {},
          "execution_count": 54
        }
      ]
    },
    {
      "cell_type": "code",
      "source": [
        "say_hi(greeting='Hey', name='John')"
      ],
      "metadata": {
        "colab": {
          "base_uri": "https://localhost:8080/",
          "height": 35
        },
        "id": "Y7OIlT8nKFQP",
        "outputId": "73f1f662-d374-41e2-8efd-a90c4d0634da"
      },
      "execution_count": null,
      "outputs": [
        {
          "output_type": "execute_result",
          "data": {
            "text/plain": [
              "'Hey, John'"
            ],
            "application/vnd.google.colaboratory.intrinsic+json": {
              "type": "string"
            }
          },
          "metadata": {},
          "execution_count": 55
        }
      ]
    },
    {
      "cell_type": "code",
      "source": [
        "say_hi(greeting='Hey', name='John', extra=5)"
      ],
      "metadata": {
        "colab": {
          "base_uri": "https://localhost:8080/",
          "height": 35
        },
        "id": "68avtYuXKJHI",
        "outputId": "2536a685-2d54-48ef-ce6b-4be71e85fddd"
      },
      "execution_count": null,
      "outputs": [
        {
          "output_type": "execute_result",
          "data": {
            "text/plain": [
              "'Hey, John'"
            ],
            "application/vnd.google.colaboratory.intrinsic+json": {
              "type": "string"
            }
          },
          "metadata": {},
          "execution_count": 56
        }
      ]
    },
    {
      "cell_type": "code",
      "source": [
        "data = {'greeting': 'Hey',\n",
        "        'name': 'John',\n",
        "        'extra':5}\n",
        "\n",
        "say_hi(**data)"
      ],
      "metadata": {
        "colab": {
          "base_uri": "https://localhost:8080/",
          "height": 35
        },
        "id": "PXX5mFuMKLFy",
        "outputId": "b1f9da2e-3e12-42f0-d20c-c4ccd058db5a"
      },
      "execution_count": null,
      "outputs": [
        {
          "output_type": "execute_result",
          "data": {
            "text/plain": [
              "'Hey, John'"
            ],
            "application/vnd.google.colaboratory.intrinsic+json": {
              "type": "string"
            }
          },
          "metadata": {},
          "execution_count": 57
        }
      ]
    },
    {
      "cell_type": "markdown",
      "source": [
        "**Аннотирование типов**"
      ],
      "metadata": {
        "id": "EYZeJhDIKNvJ"
      }
    },
    {
      "cell_type": "code",
      "source": [
        "def calc_sum(a: int, b: int) -> int:\n",
        "    return a + b"
      ],
      "metadata": {
        "id": "HNaZJ7d-KOyi"
      },
      "execution_count": null,
      "outputs": []
    },
    {
      "cell_type": "code",
      "source": [
        "calc_sum(1, 2)"
      ],
      "metadata": {
        "colab": {
          "base_uri": "https://localhost:8080/"
        },
        "id": "0gCcLGxHKR1I",
        "outputId": "e9c67a0a-0bbd-4a09-b666-af025f406219"
      },
      "execution_count": null,
      "outputs": [
        {
          "output_type": "execute_result",
          "data": {
            "text/plain": [
              "3"
            ]
          },
          "metadata": {},
          "execution_count": 59
        }
      ]
    },
    {
      "cell_type": "code",
      "source": [
        "calc_sum(1.1, 2.2)"
      ],
      "metadata": {
        "colab": {
          "base_uri": "https://localhost:8080/"
        },
        "id": "vOJWayTuKUu6",
        "outputId": "a47e6d26-3425-4fe6-e453-026f69d61b9e"
      },
      "execution_count": null,
      "outputs": [
        {
          "output_type": "execute_result",
          "data": {
            "text/plain": [
              "3.3000000000000003"
            ]
          },
          "metadata": {},
          "execution_count": 60
        }
      ]
    },
    {
      "cell_type": "code",
      "source": [
        "calc_sum('abc', 'dce')"
      ],
      "metadata": {
        "colab": {
          "base_uri": "https://localhost:8080/",
          "height": 35
        },
        "id": "IZe2YYJVKWZR",
        "outputId": "31f7290a-727c-4696-fc4e-e81d24b36127"
      },
      "execution_count": null,
      "outputs": [
        {
          "output_type": "execute_result",
          "data": {
            "text/plain": [
              "'abcdce'"
            ],
            "application/vnd.google.colaboratory.intrinsic+json": {
              "type": "string"
            }
          },
          "metadata": {},
          "execution_count": 61
        }
      ]
    },
    {
      "cell_type": "markdown",
      "source": [
        "**Генераторы**\n",
        "Допустим, у вас есть файл, который весит десяток гигабайт. Из него нужно выбрать и обработать строки, подходящие под какое-то условие. Что в такой ситуации делать? А можно обрабатывать такие объемы данных небольшими порциями, чтобы не вызывать переполнения памяти. В Python на этот случай есть специальный инструмент — генераторы.\n",
        "\n",
        "Генератор - это объект, который сразу при создании не вычисляет значения всех своих элементов.\n",
        "\n",
        "Генератор хранит в памяти:\n",
        "\n",
        "последний вычисленный элемент\n",
        "правило перехода к следующему\n",
        "условие, при котором выполнение прерывается\n",
        "Вычисление следующего значения происходит лишь при выполнении метода next(). Предыдущее значение при этом теряется. Этим генераторы отличаются от списков, ведь списки хранят в памяти все свои элементы, и удалить их можно только программно. Вычисления с помощью генераторов экономят память."
      ],
      "metadata": {
        "id": "4QlOOqg3KaK5"
      }
    },
    {
      "cell_type": "code",
      "source": [
        "def my_range(start, end):\n",
        "    current = start\n",
        "    while current < end:\n",
        "        yield current\n",
        "        current += 1"
      ],
      "metadata": {
        "id": "5g4r1DBsKblj"
      },
      "execution_count": null,
      "outputs": []
    },
    {
      "cell_type": "markdown",
      "source": [
        "Оператор **yield** приостанавливает функцию и сохраняет локальное состояние, чтобы его можно было возобновить с того места, где оно было остановлено."
      ],
      "metadata": {
        "id": "yYx5qzaiKe_B"
      }
    },
    {
      "cell_type": "code",
      "source": [
        "ranger = my_range(0, 2)\n",
        "ranger"
      ],
      "metadata": {
        "colab": {
          "base_uri": "https://localhost:8080/"
        },
        "id": "ikeJgmrRKh2G",
        "outputId": "af3d4dd2-2a68-441f-85ca-4f4c0f2c61fa"
      },
      "execution_count": null,
      "outputs": [
        {
          "output_type": "execute_result",
          "data": {
            "text/plain": [
              "<generator object my_range at 0x7f026fa245f0>"
            ]
          },
          "metadata": {},
          "execution_count": 63
        }
      ]
    },
    {
      "cell_type": "code",
      "source": [
        "next(ranger)"
      ],
      "metadata": {
        "colab": {
          "base_uri": "https://localhost:8080/"
        },
        "id": "r3pKPNDFKlEw",
        "outputId": "13b5abfa-ed61-4fd2-cbbc-a8be5012e3ab"
      },
      "execution_count": null,
      "outputs": [
        {
          "output_type": "execute_result",
          "data": {
            "text/plain": [
              "0"
            ]
          },
          "metadata": {},
          "execution_count": 64
        }
      ]
    },
    {
      "cell_type": "code",
      "source": [
        "next(ranger)"
      ],
      "metadata": {
        "colab": {
          "base_uri": "https://localhost:8080/"
        },
        "id": "eR_A_o98Kne0",
        "outputId": "2e0a6712-d451-4800-d47e-9fe815ab0849"
      },
      "execution_count": null,
      "outputs": [
        {
          "output_type": "execute_result",
          "data": {
            "text/plain": [
              "1"
            ]
          },
          "metadata": {},
          "execution_count": 65
        }
      ]
    },
    {
      "cell_type": "code",
      "source": [
        "next(ranger)"
      ],
      "metadata": {
        "colab": {
          "base_uri": "https://localhost:8080/",
          "height": 163
        },
        "id": "4B0v9ggJKoag",
        "outputId": "11a219e8-85be-4cb3-c12f-fe7c846d1030"
      },
      "execution_count": null,
      "outputs": [
        {
          "output_type": "error",
          "ename": "StopIteration",
          "evalue": "ignored",
          "traceback": [
            "\u001b[0;31m---------------------------------------------------------------------------\u001b[0m",
            "\u001b[0;31mStopIteration\u001b[0m                             Traceback (most recent call last)",
            "\u001b[0;32m<ipython-input-66-c186e1cb4ee7>\u001b[0m in \u001b[0;36m<module>\u001b[0;34m\u001b[0m\n\u001b[0;32m----> 1\u001b[0;31m \u001b[0mnext\u001b[0m\u001b[0;34m(\u001b[0m\u001b[0mranger\u001b[0m\u001b[0;34m)\u001b[0m\u001b[0;34m\u001b[0m\u001b[0;34m\u001b[0m\u001b[0m\n\u001b[0m",
            "\u001b[0;31mStopIteration\u001b[0m: "
          ]
        }
      ]
    },
    {
      "cell_type": "code",
      "source": [
        "gen_a = my_range(2, 5)\n",
        "for i in gen_a:\n",
        "    print(i)"
      ],
      "metadata": {
        "colab": {
          "base_uri": "https://localhost:8080/"
        },
        "id": "FntYlyv5KpnM",
        "outputId": "c512e6bb-527d-40a6-851f-aaa4e0f0036a"
      },
      "execution_count": null,
      "outputs": [
        {
          "output_type": "stream",
          "name": "stdout",
          "text": [
            "2\n",
            "3\n",
            "4\n"
          ]
        }
      ]
    },
    {
      "cell_type": "code",
      "source": [
        "for i in gen_a:\n",
        "    print(i)"
      ],
      "metadata": {
        "id": "G5CMpNP4Ksrp"
      },
      "execution_count": null,
      "outputs": []
    },
    {
      "cell_type": "markdown",
      "source": [
        "**list comprehensions**"
      ],
      "metadata": {
        "id": "xEN32aAXKxiE"
      }
    },
    {
      "cell_type": "code",
      "source": [
        "squares = []\n",
        "for i in range(5):\n",
        "    squares.append(i * i)\n",
        "squares"
      ],
      "metadata": {
        "colab": {
          "base_uri": "https://localhost:8080/"
        },
        "id": "z7S0G4zBKyoZ",
        "outputId": "fc582ea9-f177-4b72-f91c-f3001fe91972"
      },
      "execution_count": null,
      "outputs": [
        {
          "output_type": "execute_result",
          "data": {
            "text/plain": [
              "[0, 1, 4, 9, 16]"
            ]
          },
          "metadata": {},
          "execution_count": 69
        }
      ]
    },
    {
      "cell_type": "code",
      "source": [
        "squares = [i * i for i in range(5)]\n",
        "squares"
      ],
      "metadata": {
        "colab": {
          "base_uri": "https://localhost:8080/"
        },
        "id": "PU_wvrvmK2hB",
        "outputId": "d3815fda-c44c-4432-e16e-b73bbef127f5"
      },
      "execution_count": null,
      "outputs": [
        {
          "output_type": "execute_result",
          "data": {
            "text/plain": [
              "[0, 1, 4, 9, 16]"
            ]
          },
          "metadata": {},
          "execution_count": 70
        }
      ]
    },
    {
      "cell_type": "markdown",
      "source": [
        "# new_list = [expression for member in iterable]"
      ],
      "metadata": {
        "id": "hAQaBa0uK4fd"
      }
    },
    {
      "cell_type": "code",
      "source": [
        "even_nums = []\n",
        "for i in range(10):\n",
        "    if i % 2 == 0:\n",
        "        even_nums.append(i)\n",
        "\n",
        "even_nums"
      ],
      "metadata": {
        "colab": {
          "base_uri": "https://localhost:8080/"
        },
        "id": "onzfzkTyK5mp",
        "outputId": "14a5a8f0-0440-4d7b-e9fb-e5f85341b5b5"
      },
      "execution_count": null,
      "outputs": [
        {
          "output_type": "execute_result",
          "data": {
            "text/plain": [
              "[0, 2, 4, 6, 8]"
            ]
          },
          "metadata": {},
          "execution_count": 71
        }
      ]
    },
    {
      "cell_type": "code",
      "source": [
        "even_nums = [i for i in range(10) if i % 2 == 0]\n",
        "even_nums"
      ],
      "metadata": {
        "colab": {
          "base_uri": "https://localhost:8080/"
        },
        "id": "bN-lywgyK9FR",
        "outputId": "7334a61e-281c-4c90-dc9d-ba7e1fc45496"
      },
      "execution_count": null,
      "outputs": [
        {
          "output_type": "execute_result",
          "data": {
            "text/plain": [
              "[0, 2, 4, 6, 8]"
            ]
          },
          "metadata": {},
          "execution_count": 72
        }
      ]
    },
    {
      "cell_type": "code",
      "source": [
        "orig_prices = [125, -9, 103, 38, -5, 116]\n",
        "prices = [i if i > 0 else 0 for i in orig_prices]\n",
        "prices"
      ],
      "metadata": {
        "colab": {
          "base_uri": "https://localhost:8080/"
        },
        "id": "kv6fCe5GK_9d",
        "outputId": "fd2abd93-2653-44d4-bea4-86232d7d4c65"
      },
      "execution_count": null,
      "outputs": [
        {
          "output_type": "execute_result",
          "data": {
            "text/plain": [
              "[125, 0, 103, 38, 0, 116]"
            ]
          },
          "metadata": {},
          "execution_count": 73
        }
      ]
    },
    {
      "cell_type": "code",
      "source": [
        "def get_price(price):\n",
        "    return price if price > 0 else 0\n",
        "\n",
        "\n",
        "prices = [get_price(i) for i in orig_prices]\n",
        "prices"
      ],
      "metadata": {
        "colab": {
          "base_uri": "https://localhost:8080/"
        },
        "id": "zvAmAx_cLB95",
        "outputId": "8aee37b1-de6c-4229-8c58-8a3a67867716"
      },
      "execution_count": null,
      "outputs": [
        {
          "output_type": "execute_result",
          "data": {
            "text/plain": [
              "[125, 0, 103, 38, 0, 116]"
            ]
          },
          "metadata": {},
          "execution_count": 74
        }
      ]
    },
    {
      "cell_type": "markdown",
      "source": [
        "**set comprehensions**"
      ],
      "metadata": {
        "id": "h6NTLqhaLEId"
      }
    },
    {
      "cell_type": "code",
      "source": [
        "numbers = ['black', 'red', 'green', 'green', 'red', 'green']\n",
        "{i for i in numbers}"
      ],
      "metadata": {
        "colab": {
          "base_uri": "https://localhost:8080/"
        },
        "id": "RbaCnHYgLFRh",
        "outputId": "205bf755-3a29-417b-e019-9c22381ad236"
      },
      "execution_count": null,
      "outputs": [
        {
          "output_type": "execute_result",
          "data": {
            "text/plain": [
              "{'black', 'green', 'red'}"
            ]
          },
          "metadata": {},
          "execution_count": 75
        }
      ]
    },
    {
      "cell_type": "markdown",
      "source": [
        "**dict comprehensions**"
      ],
      "metadata": {
        "id": "J8ijPf9ZLILB"
      }
    },
    {
      "cell_type": "code",
      "source": [
        "squares_dict = {i: i * i for i in range(5)}\n",
        "squares_dict"
      ],
      "metadata": {
        "colab": {
          "base_uri": "https://localhost:8080/"
        },
        "id": "gxOGw8AlLJNJ",
        "outputId": "d0d2c7a0-099b-45b7-9727-b156a14f7875"
      },
      "execution_count": null,
      "outputs": [
        {
          "output_type": "execute_result",
          "data": {
            "text/plain": [
              "{0: 0, 1: 1, 2: 4, 3: 9, 4: 16}"
            ]
          },
          "metadata": {},
          "execution_count": 76
        }
      ]
    },
    {
      "cell_type": "code",
      "source": [
        "%%time\n",
        "\n",
        "even_nums = []\n",
        "for i in range(100_000_000):\n",
        "    if i % 2 == 0:\n",
        "        even_nums.append(i)"
      ],
      "metadata": {
        "colab": {
          "base_uri": "https://localhost:8080/"
        },
        "id": "GI-FSE-6LMKa",
        "outputId": "240c83ff-2a43-48f9-803d-39ef27757f25"
      },
      "execution_count": null,
      "outputs": [
        {
          "output_type": "stream",
          "name": "stdout",
          "text": [
            "CPU times: user 16.2 s, sys: 1.27 s, total: 17.4 s\n",
            "Wall time: 17.8 s\n"
          ]
        }
      ]
    },
    {
      "cell_type": "code",
      "source": [
        "%%time\n",
        "even_nums = [i for i in range(100_000_000) if i % 2 == 0]"
      ],
      "metadata": {
        "colab": {
          "base_uri": "https://localhost:8080/"
        },
        "id": "dX9mIpLULOSC",
        "outputId": "fbdd8f9b-583d-4626-9a38-e085ab2bbb66"
      },
      "execution_count": null,
      "outputs": [
        {
          "output_type": "stream",
          "name": "stdout",
          "text": [
            "CPU times: user 9.83 s, sys: 1.27 s, total: 11.1 s\n",
            "Wall time: 11.2 s\n"
          ]
        }
      ]
    }
  ]
}