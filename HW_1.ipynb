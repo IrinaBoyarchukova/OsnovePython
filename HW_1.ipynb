{
  "nbformat": 4,
  "nbformat_minor": 0,
  "metadata": {
    "colab": {
      "provenance": [],
      "include_colab_link": true
    },
    "kernelspec": {
      "name": "python3",
      "display_name": "Python 3"
    },
    "language_info": {
      "name": "python"
    }
  },
  "cells": [
    {
      "cell_type": "markdown",
      "metadata": {
        "id": "view-in-github",
        "colab_type": "text"
      },
      "source": [
        "<a href=\"https://colab.research.google.com/github/IrinaBoyarchukova/OsnovePython/blob/main/HW_1.ipynb\" target=\"_parent\"><img src=\"https://colab.research.google.com/assets/colab-badge.svg\" alt=\"Open In Colab\"/></a>"
      ]
    },
    {
      "cell_type": "markdown",
      "source": [
        "**Урок 1. Оформление ноутбука и закрепление функций и генераторов**\n",
        "# Задание 1:\n",
        "\n",
        " Оформляйте ноутбук, используя эти советы:\n",
        "Номер задачи - заголовок 2\n",
        "Номер подзадачи - заголовок 3\n",
        "Предоставленные наборы данных оформляйте, как код\n",
        "Рекомендации для преподавателей по оценке задания:\n",
        "Смотреть, чтобы студент красиво оформлял ноутбук, использовал ячейки с текстом, указывал номера заданий\n"
      ],
      "metadata": {
        "id": "M5YSFFmi-7K9"
      }
    },
    {
      "cell_type": "markdown",
      "source": [],
      "metadata": {
        "id": "gNQCzlFTHVhr"
      }
    },
    {
      "cell_type": "markdown",
      "source": [
        "# Заголовок 2\n"
      ],
      "metadata": {
        "id": "EzqQlQmtHXQ0"
      }
    },
    {
      "cell_type": "markdown",
      "source": [
        "## Заголовок 3\n",
        "\n"
      ],
      "metadata": {
        "id": "6LxEtNNUHhkD"
      }
    },
    {
      "cell_type": "markdown",
      "source": [],
      "metadata": {
        "id": "rI2toIKCHoZ_"
      }
    },
    {
      "cell_type": "markdown",
      "source": [
        "# Задание 2:\n",
        "На складе лежат разные фрукты в разном количестве.\n",
        "Нужно написать функцию, которая на вход принимает любое количество названий фруктов и их количество, а возвращает общее количество фруктов на складе\n"
      ],
      "metadata": {
        "id": "Iu0pU4aII7_I"
      }
    },
    {
      "cell_type": "code",
      "source": [
        "total_fruits = {'banana': 5, 'mango': 7, 'apple': 8}\n",
        "total = 0\n",
        " \n",
        "for item in total_fruits.values():\n",
        "    total += item\n",
        "print(total)"
      ],
      "metadata": {
        "colab": {
          "base_uri": "https://localhost:8080/"
        },
        "id": "MwDOno53JQMY",
        "outputId": "4ff71810-d310-4f1f-9d8d-bfaef9c37ec3"
      },
      "execution_count": null,
      "outputs": [
        {
          "output_type": "stream",
          "name": "stdout",
          "text": [
            "20\n"
          ]
        }
      ]
    },
    {
      "cell_type": "markdown",
      "source": [
        "# Задание 3:\n",
        "Дан список с затратами на рекламу. Но в данных есть ошибки, некоторые затраты имеют отрицательную величину. Удалите такие значения из списка и посчитайте суммарные затраты\n",
        "[100, 125, -90, 345, 655, -1, 0, 200]\n",
        "Используйте list comprehensions\n"
      ],
      "metadata": {
        "id": "ydM9vKKJN9mp"
      }
    },
    {
      "cell_type": "code",
      "source": [
        "list = [100, 125, -90, 345, 655, -1, 0, 200]\n",
        "print(\"Первоначальный список: \", list)\n",
        "for i in list:\n",
        "  if(i < 0):\n",
        "    list.remove(i)\n",
        "print(\"Список после удаления неверных данных: \", list)\n",
        "# можно также оформить через цикл for\n",
        "kol = 0\n",
        "i = 0\n",
        "for i in list:\n",
        "  kol += i \n",
        "print(\"Суммарные затраты: \", kol)\n",
        "# можно с помощью функции sum(), но она перестала работать, так как я создал переменную с таким же названием \n"
      ],
      "metadata": {
        "id": "allBHHOBpxyP",
        "colab": {
          "base_uri": "https://localhost:8080/"
        },
        "outputId": "873aa51f-4888-46fc-b444-e58ec541ddac"
      },
      "execution_count": 2,
      "outputs": [
        {
          "output_type": "stream",
          "name": "stdout",
          "text": [
            "Первоначальный список:  [100, 125, -90, 345, 655, -1, 0, 200]\n",
            "Список после удаления неверных данных:  [100, 125, 345, 655, 0, 200]\n",
            "Суммарные затраты:  1425\n"
          ]
        }
      ]
    },
    {
      "cell_type": "code",
      "source": [
        "# для примера\n",
        "list = [100, 125, -90, 345, 655, -1, 0, 200]\n",
        "print(sum(list))\n",
        "# не работает "
      ],
      "metadata": {
        "colab": {
          "base_uri": "https://localhost:8080/"
        },
        "id": "2uEPe2zUra6h",
        "outputId": "aa75576c-6c30-4d63-9385-e465959dff93"
      },
      "execution_count": 3,
      "outputs": [
        {
          "output_type": "stream",
          "name": "stdout",
          "text": [
            "1334\n"
          ]
        }
      ]
    },
    {
      "cell_type": "markdown",
      "source": [
        "## Задание 4.1:\n",
        "\n",
        "Даны два списка.\n",
        "Дата покупки\n",
        "['2021-09-14', '2021-12-15', '2021-09-08', '2021-12-05', '2021-10-09', '2021-09-30', '2021-12-22', '2021-11-29', '2021-12-24', '2021-11-26', '2021-10-27', '2021-12-18', '2021-11-09', '2021-11-23', '2021-09-27', '2021-10-02', '2021-12-27', '2021-09-20', '2021-12-13', '2021-11-01', '2021-11-09', '2021-12-06', '2021-12-08', '2021-10-09', '2021-10-31', '2021-09-30', '2021-11-09', '2021-12-13', '2021-10-26', '2021-12-09']\n",
        "Суммы покупок по датам\n",
        "[1270, 8413, 9028, 3703, 5739, 4095, 295, 4944, 5723, 3701, 4471, 651, 7037, 4274, 6275, 4988, 6930, 2971, 6592, 2004, 2822, 519, 3406, 2732, 5015, 2008, 316, 6333, 5700, 2887]\n",
        "## 4.1 Найдите, какая выручка у компании в ноябре\n",
        "Используйте list comprehensions\n"
      ],
      "metadata": {
        "id": "Nyn6eo4xXiL_"
      }
    },
    {
      "cell_type": "code",
      "source": [
        "def dict_replace(dictionary: dict, list_keys=['data_product', 'price_product']) -> dict:\n",
        "    return {i: dictionary[i] for i in list_keys}\n",
        "client_dict = {\n",
        "    \"data_product\": \"2021-09-14\", #\"2021-12-15\",  \"2021-09-08\", \"2021-12-05\", \"2021-10-09\", \"2021-09-30\", \"2021-12-22\", \"2021-11-29\", \"2021-12-24\", \"2021-11-26\", \"2021-10-27\", \"2021-12-18\", \"2021-11-09\", \"2021-11-23\", \"2021-09-27\", \"2021-10-02\", \"2021-12-27\", \"2021-09-20\", \"2021-12-13\", \"2021-11-01\", \"2021-11-09\", \"2021-12-06\", \"2021-12-08\", \"2021-10-09\", \"2021-10-31\", \"2021-09-30\", \"2021-11-09\", \"2021-12-13\", \"2021-10-26\", \"2021-12-09\",\n",
        "    \"price_product\": 1270, # 8413 , 9028, 3703, 5739, 4095, 295, 4944, 5723, 3701, 4471, 651, 7037, 4274, 6275, 4988, 6930, 2971, 6592, 2004, 2822, 519, 3406, 2732, 5015, 2008, 316, 6333, 5700, 2887\n",
        "}\n",
        "dict_replace(client_dict)"
      ],
      "metadata": {
        "colab": {
          "base_uri": "https://localhost:8080/"
        },
        "id": "1bsQs_qGaeBK",
        "outputId": "e3ca29a3-c35e-4ae3-bc37-1aca9573bfbc"
      },
      "execution_count": 52,
      "outputs": [
        {
          "output_type": "execute_result",
          "data": {
            "text/plain": [
              "{'data_product': '2021-09-14', 'price_product': 1270}"
            ]
          },
          "metadata": {},
          "execution_count": 52
        }
      ]
    },
    {
      "cell_type": "code",
      "source": [
        "date = ['2021-09-14', '2021-12-15', '2021-09-08', '2021-12-05', '2021-10-09', '2021-09-30', '2021-12-22', '2021-11-29',\n",
        "        '2021-12-24', '2021-11-26', '2021-10-27', '2021-12-18', '2021-11-09', '2021-11-23', '2021-09-27', '2021-10-02',\n",
        "        '2021-12-27', '2021-09-20', '2021-12-13', '2021-11-01', '2021-11-09', '2021-12-06', '2021-12-08', '2021-10-09',\n",
        "        '2021-10-31', '2021-09-30', '2021-11-09', '2021-12-13', '2021-10-26', '2021-12-09']\n",
        "money = [1270, 8413, 9028, 3703, 5739, 4095, 295, 4944, 5723, 3701, 4471, 651, 7037, 4274, 6275, 4988, 6930, 2971, 6592,\n",
        "         2004, 2822, 519, 3406, 2732, 5015, 2008, 316, 6333, 5700, 2887]\n",
        "print(sum([m for d, m in zip(date, money) if d[5:7] == \"11\"]))"
      ],
      "metadata": {
        "colab": {
          "base_uri": "https://localhost:8080/"
        },
        "id": "LaWmqaYa9E--",
        "outputId": "d9327012-2966-4316-b230-47d244153d9a"
      },
      "execution_count": 47,
      "outputs": [
        {
          "output_type": "stream",
          "name": "stdout",
          "text": [
            "25098\n"
          ]
        }
      ]
    },
    {
      "cell_type": "code",
      "source": [
        "def revenue_of_month(data, month_num):\n",
        "    d = {}\n",
        "    for i in range(len(data)):\n",
        "        d[data[i]] = d.get(data[i], 0) + month_num[i]\n",
        "    return d\n",
        " \n",
        " \n",
        "s1 = ['2021-09-14', '2021-12-15', '2021-09-08', '2021-12-05', '2021-10-09', '2021-09-30', '2021-12-22', '2021-11-29',\n",
        "      '2021-12-24', '2021-11-26', '2021-10-27', '2021-12-18', '2021-11-09', '2021-11-23', '2021-09-27', '2021-10-02',\n",
        "      '2021-12-27', '2021-09-20', '2021-12-13', '2021-11-01', '2021-11-09', '2021-12-06', '2021-12-08', '2021-10-09',\n",
        "      '2021-10-31', '2021-09-30', '2021-11-09', '2021-12-13', '2021-10-26', '2021-12-09']\n",
        "s2 = [1270, 8413, 9028, 3703, 5739, 4095, 295, 4944, 5723, 3701, 4471, 651, 7037, 4274, 6275, 4988, 6930, 2971, 6592,\n",
        "      2004, 2822, 519, 3406, 2732, 5015, 2008, 316, 6333, 5700, 2887]\n",
        " \n",
        "print(sum(s2[i] for i in range(len(s1)) if '-11-' in s1[i]))\n",
        "print(revenue_of_month(s1, s2))"
      ],
      "metadata": {
        "colab": {
          "base_uri": "https://localhost:8080/"
        },
        "id": "tveoqbEw98Pi",
        "outputId": "ccb02ce6-c211-4122-bec8-d88fda106949"
      },
      "execution_count": 48,
      "outputs": [
        {
          "output_type": "stream",
          "name": "stdout",
          "text": [
            "25098\n",
            "{'2021-09-14': 1270, '2021-12-15': 8413, '2021-09-08': 9028, '2021-12-05': 3703, '2021-10-09': 8471, '2021-09-30': 6103, '2021-12-22': 295, '2021-11-29': 4944, '2021-12-24': 5723, '2021-11-26': 3701, '2021-10-27': 4471, '2021-12-18': 651, '2021-11-09': 10175, '2021-11-23': 4274, '2021-09-27': 6275, '2021-10-02': 4988, '2021-12-27': 6930, '2021-09-20': 2971, '2021-12-13': 12925, '2021-11-01': 2004, '2021-12-06': 519, '2021-12-08': 3406, '2021-10-31': 5015, '2021-10-26': 5700, '2021-12-09': 2887}\n"
          ]
        }
      ]
    },
    {
      "cell_type": "markdown",
      "source": [
        "## 4.2 Найдите выручку компании в зависимости от месяца\n",
        "Для этого напишите функцию, которая на вход принимает список с датами и список с выручкой, а на выходе словарь, где ключи - это месяцы, а значения - это выручка.\n",
        "Используйте аннотирование типов.\n"
      ],
      "metadata": {
        "id": "ycRGBrViXy8v"
      }
    },
    {
      "cell_type": "markdown",
      "source": [],
      "metadata": {
        "id": "fylNw8FXXtLm"
      }
    },
    {
      "cell_type": "code",
      "source": [
        "dt = ['2021-09-14', '2021-12-15', '2021-09-08', '2021-12-05', '2021-10-09', '2021-09-30', '2021-12-22', '2021-11-29', '2021-12-24', '2021-11-26', '2021-10-27', '2021-12-18', '2021-11-09', '2021-11-23', '2021-09-27', '2021-10-02', '2021-12-27', '2021-09-20', '2021-12-13', '2021-11-01', '2021-11-09', '2021-12-06', '2021-12-08', '2021-10-09', '2021-10-31', '2021-09-30', '2021-11-09', '2021-12-13', '2021-10-26', '2021-12-09']\n",
        "# Суммы покупок по датам\n",
        "sm = [1270, 8413, 9028, 3703, 5739, 4095, 295, 4944, 5723, 3701, 4471, 651, 7037, 4274, 6275, 4988, 6930, 2971, 6592, 2004, 2822, 519, 3406, 2732, 5015, 2008, 316, 6333, 5700, 2887]\n",
        " \n",
        "import pandas as pd\n",
        "import datetime\n",
        " \n",
        "df = pd.DataFrame()\n",
        "df['Date'] = [datetime.datetime.strptime(i, '%Y-%m-%d') for i in dt]\n",
        "df['Sum'] = sm\n",
        "df['Month'] = pd.DatetimeIndex(df['Date']).month\n",
        "df.groupby('Month').sum()"
      ],
      "metadata": {
        "colab": {
          "base_uri": "https://localhost:8080/",
          "height": 204
        },
        "id": "FvyUOOFx-plN",
        "outputId": "2ddddeff-f989-49fe-9e06-2da2b205122d"
      },
      "execution_count": 51,
      "outputs": [
        {
          "output_type": "execute_result",
          "data": {
            "text/plain": [
              "         Sum\n",
              "Month       \n",
              "9      25647\n",
              "10     28645\n",
              "11     25098\n",
              "12     45452"
            ],
            "text/html": [
              "\n",
              "  <div id=\"df-3e04d344-9cee-40de-9e42-e791f68ebc7d\">\n",
              "    <div class=\"colab-df-container\">\n",
              "      <div>\n",
              "<style scoped>\n",
              "    .dataframe tbody tr th:only-of-type {\n",
              "        vertical-align: middle;\n",
              "    }\n",
              "\n",
              "    .dataframe tbody tr th {\n",
              "        vertical-align: top;\n",
              "    }\n",
              "\n",
              "    .dataframe thead th {\n",
              "        text-align: right;\n",
              "    }\n",
              "</style>\n",
              "<table border=\"1\" class=\"dataframe\">\n",
              "  <thead>\n",
              "    <tr style=\"text-align: right;\">\n",
              "      <th></th>\n",
              "      <th>Sum</th>\n",
              "    </tr>\n",
              "    <tr>\n",
              "      <th>Month</th>\n",
              "      <th></th>\n",
              "    </tr>\n",
              "  </thead>\n",
              "  <tbody>\n",
              "    <tr>\n",
              "      <th>9</th>\n",
              "      <td>25647</td>\n",
              "    </tr>\n",
              "    <tr>\n",
              "      <th>10</th>\n",
              "      <td>28645</td>\n",
              "    </tr>\n",
              "    <tr>\n",
              "      <th>11</th>\n",
              "      <td>25098</td>\n",
              "    </tr>\n",
              "    <tr>\n",
              "      <th>12</th>\n",
              "      <td>45452</td>\n",
              "    </tr>\n",
              "  </tbody>\n",
              "</table>\n",
              "</div>\n",
              "      <button class=\"colab-df-convert\" onclick=\"convertToInteractive('df-3e04d344-9cee-40de-9e42-e791f68ebc7d')\"\n",
              "              title=\"Convert this dataframe to an interactive table.\"\n",
              "              style=\"display:none;\">\n",
              "        \n",
              "  <svg xmlns=\"http://www.w3.org/2000/svg\" height=\"24px\"viewBox=\"0 0 24 24\"\n",
              "       width=\"24px\">\n",
              "    <path d=\"M0 0h24v24H0V0z\" fill=\"none\"/>\n",
              "    <path d=\"M18.56 5.44l.94 2.06.94-2.06 2.06-.94-2.06-.94-.94-2.06-.94 2.06-2.06.94zm-11 1L8.5 8.5l.94-2.06 2.06-.94-2.06-.94L8.5 2.5l-.94 2.06-2.06.94zm10 10l.94 2.06.94-2.06 2.06-.94-2.06-.94-.94-2.06-.94 2.06-2.06.94z\"/><path d=\"M17.41 7.96l-1.37-1.37c-.4-.4-.92-.59-1.43-.59-.52 0-1.04.2-1.43.59L10.3 9.45l-7.72 7.72c-.78.78-.78 2.05 0 2.83L4 21.41c.39.39.9.59 1.41.59.51 0 1.02-.2 1.41-.59l7.78-7.78 2.81-2.81c.8-.78.8-2.07 0-2.86zM5.41 20L4 18.59l7.72-7.72 1.47 1.35L5.41 20z\"/>\n",
              "  </svg>\n",
              "      </button>\n",
              "      \n",
              "  <style>\n",
              "    .colab-df-container {\n",
              "      display:flex;\n",
              "      flex-wrap:wrap;\n",
              "      gap: 12px;\n",
              "    }\n",
              "\n",
              "    .colab-df-convert {\n",
              "      background-color: #E8F0FE;\n",
              "      border: none;\n",
              "      border-radius: 50%;\n",
              "      cursor: pointer;\n",
              "      display: none;\n",
              "      fill: #1967D2;\n",
              "      height: 32px;\n",
              "      padding: 0 0 0 0;\n",
              "      width: 32px;\n",
              "    }\n",
              "\n",
              "    .colab-df-convert:hover {\n",
              "      background-color: #E2EBFA;\n",
              "      box-shadow: 0px 1px 2px rgba(60, 64, 67, 0.3), 0px 1px 3px 1px rgba(60, 64, 67, 0.15);\n",
              "      fill: #174EA6;\n",
              "    }\n",
              "\n",
              "    [theme=dark] .colab-df-convert {\n",
              "      background-color: #3B4455;\n",
              "      fill: #D2E3FC;\n",
              "    }\n",
              "\n",
              "    [theme=dark] .colab-df-convert:hover {\n",
              "      background-color: #434B5C;\n",
              "      box-shadow: 0px 1px 3px 1px rgba(0, 0, 0, 0.15);\n",
              "      filter: drop-shadow(0px 1px 2px rgba(0, 0, 0, 0.3));\n",
              "      fill: #FFFFFF;\n",
              "    }\n",
              "  </style>\n",
              "\n",
              "      <script>\n",
              "        const buttonEl =\n",
              "          document.querySelector('#df-3e04d344-9cee-40de-9e42-e791f68ebc7d button.colab-df-convert');\n",
              "        buttonEl.style.display =\n",
              "          google.colab.kernel.accessAllowed ? 'block' : 'none';\n",
              "\n",
              "        async function convertToInteractive(key) {\n",
              "          const element = document.querySelector('#df-3e04d344-9cee-40de-9e42-e791f68ebc7d');\n",
              "          const dataTable =\n",
              "            await google.colab.kernel.invokeFunction('convertToInteractive',\n",
              "                                                     [key], {});\n",
              "          if (!dataTable) return;\n",
              "\n",
              "          const docLinkHtml = 'Like what you see? Visit the ' +\n",
              "            '<a target=\"_blank\" href=https://colab.research.google.com/notebooks/data_table.ipynb>data table notebook</a>'\n",
              "            + ' to learn more about interactive tables.';\n",
              "          element.innerHTML = '';\n",
              "          dataTable['output_type'] = 'display_data';\n",
              "          await google.colab.output.renderOutput(dataTable, element);\n",
              "          const docLink = document.createElement('div');\n",
              "          docLink.innerHTML = docLinkHtml;\n",
              "          element.appendChild(docLink);\n",
              "        }\n",
              "      </script>\n",
              "    </div>\n",
              "  </div>\n",
              "  "
            ]
          },
          "metadata": {},
          "execution_count": 51
        }
      ]
    }
  ]
}